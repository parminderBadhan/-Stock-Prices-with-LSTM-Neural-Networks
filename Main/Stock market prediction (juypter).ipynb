{
 "cells": [
  {
   "cell_type": "code",
   "execution_count": 2,
   "id": "55ba0631",
   "metadata": {},
   "outputs": [],
   "source": [
    "# This program uses an artificial recurrent neural network called long short term Memory (LSTM)\n",
    "# To predict the closing stock price of a corpration (Apple.Inc). Using the past 60 day stock price"
   ]
  },
  {
   "cell_type": "code",
   "execution_count": 3,
   "id": "7d820062",
   "metadata": {},
   "outputs": [],
   "source": [
    "# Importing Libraries \n",
    "\n",
    "import math \n",
    "import pandas_datareader as web\n",
    "import yfinance as yf\n",
    "import numpy as np \n",
    "import pandas as pd\n",
    "from sklearn.preprocessing import MinMaxScaler\n",
    "from sklearn.preprocessing import StandardScaler\n",
    "from tensorflow.keras.models import Sequential\n",
    "from tensorflow.keras.layers import LSTM, Dense\n",
    "import matplotlib.pyplot as plt \n",
    "\n",
    "plt.style.use('fivethirtyeight')"
   ]
  },
  {
   "cell_type": "code",
   "execution_count": 4,
   "id": "26b9babe",
   "metadata": {},
   "outputs": [
    {
     "name": "stderr",
     "output_type": "stream",
     "text": [
      "C:\\Users\\parmi\\AppData\\Local\\Temp\\ipykernel_33376\\2549790172.py:2: FutureWarning: YF.download() has changed argument auto_adjust default to True\n",
      "  df = yf.download('AAPL', start='2012-01-01', end='2019-12-17')\n",
      "[*********************100%***********************]  1 of 1 completed\n"
     ]
    },
    {
     "data": {
      "text/html": [
       "<div>\n",
       "<style scoped>\n",
       "    .dataframe tbody tr th:only-of-type {\n",
       "        vertical-align: middle;\n",
       "    }\n",
       "\n",
       "    .dataframe tbody tr th {\n",
       "        vertical-align: top;\n",
       "    }\n",
       "\n",
       "    .dataframe thead tr th {\n",
       "        text-align: left;\n",
       "    }\n",
       "\n",
       "    .dataframe thead tr:last-of-type th {\n",
       "        text-align: right;\n",
       "    }\n",
       "</style>\n",
       "<table border=\"1\" class=\"dataframe\">\n",
       "  <thead>\n",
       "    <tr>\n",
       "      <th>Price</th>\n",
       "      <th>Close</th>\n",
       "      <th>High</th>\n",
       "      <th>Low</th>\n",
       "      <th>Open</th>\n",
       "      <th>Volume</th>\n",
       "    </tr>\n",
       "    <tr>\n",
       "      <th>Ticker</th>\n",
       "      <th>AAPL</th>\n",
       "      <th>AAPL</th>\n",
       "      <th>AAPL</th>\n",
       "      <th>AAPL</th>\n",
       "      <th>AAPL</th>\n",
       "    </tr>\n",
       "    <tr>\n",
       "      <th>Date</th>\n",
       "      <th></th>\n",
       "      <th></th>\n",
       "      <th></th>\n",
       "      <th></th>\n",
       "      <th></th>\n",
       "    </tr>\n",
       "  </thead>\n",
       "  <tbody>\n",
       "    <tr>\n",
       "      <th>2012-01-03</th>\n",
       "      <td>12.359184</td>\n",
       "      <td>12.397354</td>\n",
       "      <td>12.292164</td>\n",
       "      <td>12.304186</td>\n",
       "      <td>302220800</td>\n",
       "    </tr>\n",
       "    <tr>\n",
       "      <th>2012-01-04</th>\n",
       "      <td>12.425602</td>\n",
       "      <td>12.462870</td>\n",
       "      <td>12.300577</td>\n",
       "      <td>12.322216</td>\n",
       "      <td>260022000</td>\n",
       "    </tr>\n",
       "    <tr>\n",
       "      <th>2012-01-05</th>\n",
       "      <td>12.563551</td>\n",
       "      <td>12.579179</td>\n",
       "      <td>12.402460</td>\n",
       "      <td>12.470984</td>\n",
       "      <td>271269600</td>\n",
       "    </tr>\n",
       "    <tr>\n",
       "      <th>2012-01-06</th>\n",
       "      <td>12.694888</td>\n",
       "      <td>12.705407</td>\n",
       "      <td>12.599316</td>\n",
       "      <td>12.615846</td>\n",
       "      <td>318292800</td>\n",
       "    </tr>\n",
       "    <tr>\n",
       "      <th>2012-01-09</th>\n",
       "      <td>12.674754</td>\n",
       "      <td>12.855681</td>\n",
       "      <td>12.663333</td>\n",
       "      <td>12.788059</td>\n",
       "      <td>394024400</td>\n",
       "    </tr>\n",
       "    <tr>\n",
       "      <th>...</th>\n",
       "      <td>...</td>\n",
       "      <td>...</td>\n",
       "      <td>...</td>\n",
       "      <td>...</td>\n",
       "      <td>...</td>\n",
       "    </tr>\n",
       "    <tr>\n",
       "      <th>2019-12-10</th>\n",
       "      <td>64.915077</td>\n",
       "      <td>65.299518</td>\n",
       "      <td>64.281588</td>\n",
       "      <td>64.944091</td>\n",
       "      <td>90420400</td>\n",
       "    </tr>\n",
       "    <tr>\n",
       "      <th>2019-12-11</th>\n",
       "      <td>65.468773</td>\n",
       "      <td>65.548567</td>\n",
       "      <td>64.919918</td>\n",
       "      <td>64.994872</td>\n",
       "      <td>78756800</td>\n",
       "    </tr>\n",
       "    <tr>\n",
       "      <th>2019-12-12</th>\n",
       "      <td>65.635590</td>\n",
       "      <td>65.901557</td>\n",
       "      <td>64.634594</td>\n",
       "      <td>64.745814</td>\n",
       "      <td>137310400</td>\n",
       "    </tr>\n",
       "    <tr>\n",
       "      <th>2019-12-13</th>\n",
       "      <td>66.527794</td>\n",
       "      <td>66.564061</td>\n",
       "      <td>65.507451</td>\n",
       "      <td>65.635598</td>\n",
       "      <td>133587600</td>\n",
       "    </tr>\n",
       "    <tr>\n",
       "      <th>2019-12-16</th>\n",
       "      <td>67.666611</td>\n",
       "      <td>67.891479</td>\n",
       "      <td>66.970269</td>\n",
       "      <td>66.975102</td>\n",
       "      <td>128186000</td>\n",
       "    </tr>\n",
       "  </tbody>\n",
       "</table>\n",
       "<p>2002 rows × 5 columns</p>\n",
       "</div>"
      ],
      "text/plain": [
       "Price           Close       High        Low       Open     Volume\n",
       "Ticker           AAPL       AAPL       AAPL       AAPL       AAPL\n",
       "Date                                                             \n",
       "2012-01-03  12.359184  12.397354  12.292164  12.304186  302220800\n",
       "2012-01-04  12.425602  12.462870  12.300577  12.322216  260022000\n",
       "2012-01-05  12.563551  12.579179  12.402460  12.470984  271269600\n",
       "2012-01-06  12.694888  12.705407  12.599316  12.615846  318292800\n",
       "2012-01-09  12.674754  12.855681  12.663333  12.788059  394024400\n",
       "...               ...        ...        ...        ...        ...\n",
       "2019-12-10  64.915077  65.299518  64.281588  64.944091   90420400\n",
       "2019-12-11  65.468773  65.548567  64.919918  64.994872   78756800\n",
       "2019-12-12  65.635590  65.901557  64.634594  64.745814  137310400\n",
       "2019-12-13  66.527794  66.564061  65.507451  65.635598  133587600\n",
       "2019-12-16  67.666611  67.891479  66.970269  66.975102  128186000\n",
       "\n",
       "[2002 rows x 5 columns]"
      ]
     },
     "execution_count": 4,
     "metadata": {},
     "output_type": "execute_result"
    }
   ],
   "source": [
    "# Get the stock quote\n",
    "df = yf.download('AAPL', start='2012-01-01', end='2019-12-17')\n",
    "\n",
    "#Showing the data:\n",
    "df"
   ]
  },
  {
   "cell_type": "code",
   "execution_count": 5,
   "id": "0d6b098a",
   "metadata": {},
   "outputs": [
    {
     "data": {
      "text/plain": [
       "(2002, 5)"
      ]
     },
     "execution_count": 5,
     "metadata": {},
     "output_type": "execute_result"
    }
   ],
   "source": [
    "# Get the number of rows and coloums \n",
    "\n",
    "df.shape"
   ]
  },
  {
   "cell_type": "code",
   "execution_count": 6,
   "id": "605d2e91",
   "metadata": {},
   "outputs": [
    {
     "data": {
      "image/png": "[encoded data removed]",
      "text/plain": [
       "<Figure size 1600x800 with 1 Axes>"
      ]
     },
     "metadata": {},
     "output_type": "display_data"
    }
   ],
   "source": [
    "# Visualize the closing price history \n",
    "\n",
    "plt.figure(figsize=(16, 8))\n",
    "plt.title(\"Close price history\")\n",
    "plt.plot(df['Close'])\n",
    "plt.xlabel('data', fontsize=18)\n",
    "plt.ylabel('Closing Price USD ($)', fontsize=18)\n",
    "plt.show()"
   ]
  },
  {
   "cell_type": "code",
   "execution_count": 7,
   "id": "328117b8",
   "metadata": {},
   "outputs": [
    {
     "data": {
      "text/plain": [
       "MultiIndex([( 'Close', 'AAPL'),\n",
       "            (  'High', 'AAPL'),\n",
       "            (   'Low', 'AAPL'),\n",
       "            (  'Open', 'AAPL'),\n",
       "            ('Volume', 'AAPL')],\n",
       "           names=['Price', 'Ticker'])"
      ]
     },
     "execution_count": 7,
     "metadata": {},
     "output_type": "execute_result"
    }
   ],
   "source": [
    "df.columns   # Not just a regular array its a MultiIndex Array"
   ]
  },
  {
   "cell_type": "code",
   "execution_count": 28,
   "id": "e6ebdddf",
   "metadata": {},
   "outputs": [
    {
     "data": {
      "text/plain": [
       "1602"
      ]
     },
     "execution_count": 28,
     "metadata": {},
     "output_type": "execute_result"
    }
   ],
   "source": [
    "# Create a new data frame with the close coloumn\n",
    "data = df.filter([('Close' ,'AAPL')])\n",
    "\n",
    "# Convert the data frame to a numpy array \n",
    "dataset = data.values\n",
    "# Get the number of rows to train the model on \n",
    "training_data_len = math.ceil(len(dataset) * .8)    # 80 percent of the data is used for traning \n",
    "\n",
    "training_data_len\n"
   ]
  },
  {
   "cell_type": "code",
   "execution_count": 9,
   "id": "af2150ae",
   "metadata": {},
   "outputs": [
    {
     "data": {
      "text/plain": [
       "array([[0.00805075],\n",
       "       [0.00924197],\n",
       "       [0.01171611],\n",
       "       ...,\n",
       "       [0.96357325],\n",
       "       [0.9795751 ],\n",
       "       [1.        ]])"
      ]
     },
     "execution_count": 9,
     "metadata": {},
     "output_type": "execute_result"
    }
   ],
   "source": [
    "# Scale the data ensures the model doesn’t get thrown off by large differences in magnitude between features like\n",
    "scaler = MinMaxScaler(feature_range=(0,1))\n",
    "scaled_data = scaler.fit_transform(dataset)\n",
    "\n",
    "scaled_data"
   ]
  },
  {
   "cell_type": "code",
   "execution_count": 10,
   "id": "096001ed",
   "metadata": {},
   "outputs": [
    {
     "name": "stdout",
     "output_type": "stream",
     "text": [
      "[array([0.00805075, 0.00924197, 0.01171611, 0.01407166, 0.01371056,\n",
      "       0.01452445, 0.0141525 , 0.01352725, 0.01267563, 0.01531137,\n",
      "       0.01768851, 0.01695549, 0.01293968, 0.0167722 , 0.01299897,\n",
      "       0.02714842, 0.02605424, 0.02748266, 0.03057129, 0.03244175,\n",
      "       0.03228538, 0.03170864, 0.03416669, 0.03647906, 0.03909877,\n",
      "       0.04333011, 0.05221851, 0.0523534 , 0.0573017 , 0.06099945,\n",
      "       0.05464427, 0.05709142, 0.05704296, 0.06390482, 0.06292918,\n",
      "       0.0647349 , 0.06797991, 0.06978548, 0.07498711, 0.07877648,\n",
      "       0.07987057, 0.0802535 , 0.07377435, 0.07221112, 0.07244307,\n",
      "       0.078534  , 0.08024793, 0.08392963, 0.09260793, 0.10418626,\n",
      "       0.10201935, 0.10202485, 0.11039592, 0.11301565, 0.11115053,\n",
      "       0.10944731, 0.10767383, 0.11356542, 0.1176081 , 0.11930081])]\n",
      "[np.float64(0.11511780821683504)]\n",
      "\n"
     ]
    }
   ],
   "source": [
    "# Create the training data set \n",
    "# Create the scaled training data set\n",
    "train_data = scaled_data[0:training_data_len, :]   # From row 0 to training_data_len\n",
    "\n",
    "# Split the Data into x_train and y_train data sets \n",
    "x_train = []\n",
    "y_train = []\n",
    "\n",
    "for i in range(60, len(train_data)):   \n",
    "    x_train.append(train_data[i-60:i, 0])   # From i-60 to i | 60 values\n",
    "    y_train.append(train_data[i, 0])        # 61st value only\n",
    "\n",
    "    if i<=60:\n",
    "        print(x_train)\n",
    "        print(y_train)\n",
    "        print()\n"
   ]
  },
  {
   "cell_type": "code",
   "execution_count": 11,
   "id": "79c33a11",
   "metadata": {},
   "outputs": [],
   "source": [
    "# Convert the x_train and y_train to numpy arrays \n",
    "x_train, y_train = np.array(x_train), np.array(y_train)\n"
   ]
  },
  {
   "cell_type": "code",
   "execution_count": 12,
   "id": "2a08a1e7",
   "metadata": {},
   "outputs": [
    {
     "data": {
      "text/plain": [
       "(1542, 60, 1)"
      ]
     },
     "execution_count": 12,
     "metadata": {},
     "output_type": "execute_result"
    }
   ],
   "source": [
    "# Reshape the data since LSTM network expects the input to be 3D \n",
    "x_train = np.reshape(x_train, (x_train.shape[0], x_train.shape[1], 1))\n",
    "\n",
    "x_train.shape\n"
   ]
  },
  {
   "cell_type": "code",
   "execution_count": 13,
   "id": "98c4dcdd",
   "metadata": {},
   "outputs": [
    {
     "name": "stderr",
     "output_type": "stream",
     "text": [
      "c:\\Users\\parmi\\AppData\\Local\\Programs\\Python\\Python311\\Lib\\site-packages\\keras\\src\\layers\\rnn\\rnn.py:199: UserWarning: Do not pass an `input_shape`/`input_dim` argument to a layer. When using Sequential models, prefer using an `Input(shape)` object as the first layer in the model instead.\n",
      "  super().__init__(**kwargs)\n"
     ]
    }
   ],
   "source": [
    "# Build the LSTM Model\n",
    "# Keras model class that allows you to stack layers one after another, in a linear fashion — like a pipeline\n",
    "model = Sequential()\n",
    "\n",
    "# Adding to our sequential model\n",
    "model.add(LSTM(50, return_sequences=True, input_shape=(x_train.shape[1], 1)))\n",
    "model.add(LSTM(50, return_sequences=False))\n",
    "model.add(Dense(25))\n",
    "model.add(Dense(1))    # 1 since we are predicting 1 value which is the next days closing price\n",
    "\n",
    "\n"
   ]
  },
  {
   "cell_type": "code",
   "execution_count": 14,
   "id": "3773945f",
   "metadata": {},
   "outputs": [],
   "source": [
    "# Compile the model \n",
    "\n",
    "model.compile(optimizer='adam', loss='mean_squared_error')"
   ]
  },
  {
   "cell_type": "code",
   "execution_count": 15,
   "id": "5f3e15e6",
   "metadata": {},
   "outputs": [
    {
     "name": "stdout",
     "output_type": "stream",
     "text": [
      "\u001b[1m1542/1542\u001b[0m \u001b[32m━━━━━━━━━━━━━━━━━━━━\u001b[0m\u001b[37m\u001b[0m \u001b[1m24s\u001b[0m 15ms/step - loss: 0.0022\n"
     ]
    },
    {
     "data": {
      "text/plain": [
       "<keras.src.callbacks.history.History at 0x25c96856b50>"
      ]
     },
     "execution_count": 15,
     "metadata": {},
     "output_type": "execute_result"
    }
   ],
   "source": [
    "# Train the model\n",
    "# Fit == Train                            Is the number of iterations\n",
    "model.fit(x_train, y_train, batch_size=1, epochs=1)"
   ]
  },
  {
   "cell_type": "code",
   "execution_count": 29,
   "id": "7fe74bcc",
   "metadata": {},
   "outputs": [],
   "source": [
    "# Create the testing data set \n",
    "# Create a new array containing scaled values from index 1543 to 2003 \n",
    "test_data = scaled_data[training_data_len - 60 : , :]\n",
    "\n",
    "# Create the data sets x_text and y_test\n",
    "x_test = []\n",
    "y_test = dataset[training_data_len: , :]\n",
    "\n",
    "for i in range(60, len(test_data)):\n",
    "    x_test.append(test_data[i-60:i, 0])\n"
   ]
  },
  {
   "cell_type": "code",
   "execution_count": 17,
   "id": "4fe5f5c8",
   "metadata": {},
   "outputs": [
    {
     "data": {
      "text/plain": [
       "array([[0.51267271, 0.50937623, 0.5154198 , ..., 0.58649404, 0.58462714,\n",
       "        0.57737251],\n",
       "       [0.50937623, 0.5154198 , 0.52809863, ..., 0.58462714, 0.57737251,\n",
       "        0.58475447],\n",
       "       [0.5154198 , 0.52809863, 0.54276361, ..., 0.57737251, 0.58475447,\n",
       "        0.57970588],\n",
       "       ...,\n",
       "       [0.74953773, 0.74171202, 0.72774674, ..., 0.94388603, 0.95065072,\n",
       "        0.96058136],\n",
       "       [0.74171202, 0.72774674, 0.73202713, ..., 0.95065072, 0.96058136,\n",
       "        0.96357325],\n",
       "       [0.72774674, 0.73202713, 0.72753088, ..., 0.96058136, 0.96357325,\n",
       "        0.9795751 ]])"
      ]
     },
     "execution_count": 17,
     "metadata": {},
     "output_type": "execute_result"
    }
   ],
   "source": [
    "# Convert the data to numpy array\n",
    "x_test = np.array(x_test)\n",
    "x_test"
   ]
  },
  {
   "cell_type": "code",
   "execution_count": 18,
   "id": "0c13ac0c",
   "metadata": {},
   "outputs": [],
   "source": [
    "# Reshape the test data since LSTM network expects the input to be 3D \n",
    "x_test = np.reshape(x_test, (x_test.shape[0], x_test.shape[1], 1))  # num of rows and num of coloumns and num of features\n"
   ]
  },
  {
   "cell_type": "code",
   "execution_count": 19,
   "id": "e0af9202",
   "metadata": {},
   "outputs": [
    {
     "name": "stdout",
     "output_type": "stream",
     "text": [
      "\u001b[1m13/13\u001b[0m \u001b[32m━━━━━━━━━━━━━━━━━━━━\u001b[0m\u001b[37m\u001b[0m \u001b[1m0s\u001b[0m 24ms/step\n"
     ]
    }
   ],
   "source": [
    "# Get the models predicted price values\n",
    "predictions = model.predict(x_test)\n",
    "predictions = scaler.inverse_transform(predictions)    # Converts into orginal $$ format\n"
   ]
  },
  {
   "cell_type": "code",
   "execution_count": 20,
   "id": "cee79ddf",
   "metadata": {},
   "outputs": [
    {
     "name": "stdout",
     "output_type": "stream",
     "text": [
      "0.3237190341949463\n"
     ]
    }
   ],
   "source": [
    "# Get the root mean square error (RMSE)\n",
    "rmse = np.sqrt( np.mean( predictions - y_test )**2 )\n",
    "print(rmse)\n",
    "\n"
   ]
  },
  {
   "cell_type": "code",
   "execution_count": 21,
   "id": "1b68a34c",
   "metadata": {},
   "outputs": [],
   "source": [
    "# Get the last 60 days of closing pricing\n",
    "last_60_day = data[-60:].values\n",
    "\n",
    "# Scale the data using the same scaler used for training \n",
    "last_60_day = scaler.transform(last_60_day)"
   ]
  },
  {
   "cell_type": "code",
   "execution_count": 22,
   "id": "63179aa1",
   "metadata": {},
   "outputs": [],
   "source": [
    "# Create the input shape [samples, time steps, features]\n",
    "x_future = []\n",
    "x_future.append(last_60_day)   # (60,1)\n",
    "x_future = np.array(x_future)  # (1,60,1)   1 sample, 60 time steps, 1 feature per time step (closing price)\n",
    "x_future = np.reshape(x_future, (x_future.shape[0], x_future.shape[1], 1))"
   ]
  },
  {
   "cell_type": "code",
   "execution_count": 23,
   "id": "a770fbd2",
   "metadata": {},
   "outputs": [
    {
     "name": "stdout",
     "output_type": "stream",
     "text": [
      "\u001b[1m1/1\u001b[0m \u001b[32m━━━━━━━━━━━━━━━━━━━━\u001b[0m\u001b[37m\u001b[0m \u001b[1m0s\u001b[0m 32ms/step\n",
      "Predicted next days closing price: $63.90\n"
     ]
    }
   ],
   "source": [
    "# Predict the next days closing price\n",
    "\n",
    "future_predictions = model.predict(x_future)\n",
    "future_predictions = scaler.inverse_transform(future_predictions)\n",
    "\n",
    "# future_prediction[0][0] → gets the first value inside that row → 188.562347\n",
    "print(f\"Predicted next days closing price: ${future_predictions[0][0]:.2f}\") \n",
    "# The closing price of December 18, 2019\n",
    "\n"
   ]
  },
  {
   "cell_type": "code",
   "execution_count": 25,
   "id": "1c6bdd10",
   "metadata": {},
   "outputs": [
    {
     "name": "stderr",
     "output_type": "stream",
     "text": [
      "WARNING:absl:You are saving your model as an HDF5 file via `model.save()` or `keras.saving.save_model(model)`. This file format is considered legacy. We recommend using instead the native Keras format, e.g. `model.save('my_model.keras')` or `keras.saving.save_model(model, 'my_model.keras')`. \n"
     ]
    }
   ],
   "source": [
    "model.save(\"stock_lstm_model.h5\")"
   ]
  }
 ],
 "metadata": {
  "kernelspec": {
   "display_name": "Python 3",
   "language": "python",
   "name": "python3"
  },
  "language_info": {
   "codemirror_mode": {
    "name": "ipython",
    "version": 3
   },
   "file_extension": ".py",
   "mimetype": "text/x-python",
   "name": "python",
   "nbconvert_exporter": "python",
   "pygments_lexer": "ipython3",
   "version": "3.11.4"
  }
 },
 "nbformat": 4,
 "nbformat_minor": 5
}
